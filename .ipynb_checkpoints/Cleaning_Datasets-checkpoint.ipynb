{
 "cells": [
  {
   "cell_type": "code",
   "execution_count": 1,
   "id": "cba95547",
   "metadata": {},
   "outputs": [],
   "source": [
    "import pandas as pd\n",
    "import numpy as np"
   ]
  },
  {
   "cell_type": "code",
   "execution_count": 4,
   "id": "d1c038da",
   "metadata": {},
   "outputs": [
    {
     "ename": "SyntaxError",
     "evalue": "invalid syntax (3196366123.py, line 1)",
     "output_type": "error",
     "traceback": [
      "\u001b[1;36m  Cell \u001b[1;32mIn[4], line 1\u001b[1;36m\u001b[0m\n\u001b[1;33m    data1 = pd.read_csv(../Netflix_project/'netflix1.csv')\u001b[0m\n\u001b[1;37m                        ^\u001b[0m\n\u001b[1;31mSyntaxError\u001b[0m\u001b[1;31m:\u001b[0m invalid syntax\n"
     ]
    }
   ],
   "source": [
    "data1 = pd.read_csv(../Netflix_project/'netflix1.csv')"
   ]
  },
  {
   "cell_type": "code",
   "execution_count": null,
   "id": "8cff5b39",
   "metadata": {},
   "outputs": [],
   "source": [
    "data1"
   ]
  },
  {
   "cell_type": "code",
   "execution_count": null,
   "id": "c4cfc492",
   "metadata": {},
   "outputs": [],
   "source": [
    "data1.shape"
   ]
  },
  {
   "cell_type": "code",
   "execution_count": null,
   "id": "cf187073",
   "metadata": {},
   "outputs": [],
   "source": [
    "data1 = data1.drop(['show_id','date_added'], axis=1)"
   ]
  },
  {
   "cell_type": "code",
   "execution_count": null,
   "id": "9ae4557b",
   "metadata": {},
   "outputs": [],
   "source": [
    "data1"
   ]
  },
  {
   "cell_type": "code",
   "execution_count": null,
   "id": "5d3ec03c",
   "metadata": {},
   "outputs": [],
   "source": [
    "data1 = data1.rename(columns={'listed_in': 'category'})"
   ]
  },
  {
   "cell_type": "code",
   "execution_count": null,
   "id": "347dc21a",
   "metadata": {},
   "outputs": [],
   "source": []
  },
  {
   "cell_type": "code",
   "execution_count": null,
   "id": "d9e75261",
   "metadata": {},
   "outputs": [],
   "source": [
    "data1.duplicated().sum()"
   ]
  },
  {
   "cell_type": "code",
   "execution_count": null,
   "id": "9f269b74",
   "metadata": {},
   "outputs": [],
   "source": [
    "data1.isna().sum()"
   ]
  },
  {
   "cell_type": "code",
   "execution_count": null,
   "id": "4cd0c66d",
   "metadata": {},
   "outputs": [],
   "source": [
    "data1 = data1.drop_duplicates()"
   ]
  },
  {
   "cell_type": "code",
   "execution_count": null,
   "id": "8b58d270",
   "metadata": {},
   "outputs": [],
   "source": [
    "data1.duplicated().sum()"
   ]
  },
  {
   "cell_type": "code",
   "execution_count": null,
   "id": "967ca5bc",
   "metadata": {},
   "outputs": [],
   "source": [
    "data2 = pd.read_csv('netflix3.csv')"
   ]
  },
  {
   "cell_type": "code",
   "execution_count": null,
   "id": "39bc8ccf",
   "metadata": {},
   "outputs": [],
   "source": [
    "data2"
   ]
  },
  {
   "cell_type": "code",
   "execution_count": null,
   "id": "a6767e6e",
   "metadata": {},
   "outputs": [],
   "source": [
    "data2 = data2.drop(['Unnamed: 6','Unnamed: 7','Unnamed: 8','rating'], axis=1)"
   ]
  },
  {
   "cell_type": "code",
   "execution_count": null,
   "id": "797d39e7",
   "metadata": {},
   "outputs": [],
   "source": [
    "data2 = data2.rename(columns={'year': 'release_year','certificate':'rating', 'genre':'category'})"
   ]
  },
  {
   "cell_type": "code",
   "execution_count": null,
   "id": "fb16acea",
   "metadata": {},
   "outputs": [],
   "source": [
    "data2"
   ]
  },
  {
   "cell_type": "code",
   "execution_count": null,
   "id": "a30d065e",
   "metadata": {
    "scrolled": true
   },
   "outputs": [],
   "source": [
    "data2['release_year'] = data2['release_year'].str.replace('(', '').str.replace(')', '')"
   ]
  },
  {
   "cell_type": "code",
   "execution_count": null,
   "id": "19cbb27b",
   "metadata": {
    "scrolled": true
   },
   "outputs": [],
   "source": [
    "data2"
   ]
  },
  {
   "cell_type": "code",
   "execution_count": null,
   "id": "5f73844c",
   "metadata": {
    "scrolled": true
   },
   "outputs": [],
   "source": [
    "data2['release_year'] = data2['release_year'].str.replace('–', '')"
   ]
  },
  {
   "cell_type": "code",
   "execution_count": null,
   "id": "42c9b046",
   "metadata": {},
   "outputs": [],
   "source": [
    "data2"
   ]
  },
  {
   "cell_type": "code",
   "execution_count": null,
   "id": "9d622d69",
   "metadata": {},
   "outputs": [],
   "source": [
    "data2['release_year'] = data2['release_year'].str.replace('-', '')"
   ]
  },
  {
   "cell_type": "code",
   "execution_count": null,
   "id": "498059cb",
   "metadata": {},
   "outputs": [],
   "source": [
    "data2"
   ]
  },
  {
   "cell_type": "code",
   "execution_count": null,
   "id": "9f259359",
   "metadata": {},
   "outputs": [],
   "source": [
    "data2.dtypes"
   ]
  },
  {
   "cell_type": "code",
   "execution_count": null,
   "id": "aec43910",
   "metadata": {
    "scrolled": true
   },
   "outputs": [],
   "source": [
    "data2['release_year'] = data2['release_year'].str[:4]\n",
    "data2"
   ]
  },
  {
   "cell_type": "code",
   "execution_count": null,
   "id": "a02eabb1",
   "metadata": {},
   "outputs": [],
   "source": [
    "data2.duplicated().sum()"
   ]
  },
  {
   "cell_type": "code",
   "execution_count": null,
   "id": "db44df3e",
   "metadata": {},
   "outputs": [],
   "source": [
    "data2 = data2.drop_duplicates()"
   ]
  },
  {
   "cell_type": "code",
   "execution_count": null,
   "id": "4f4cf101",
   "metadata": {
    "scrolled": true
   },
   "outputs": [],
   "source": [
    "data2.isna().sum()"
   ]
  },
  {
   "cell_type": "code",
   "execution_count": null,
   "id": "c593d54f",
   "metadata": {},
   "outputs": [],
   "source": [
    "#we will leave for now the Nan values until we create the dataset with all the csv files."
   ]
  },
  {
   "cell_type": "code",
   "execution_count": null,
   "id": "eef5855a",
   "metadata": {},
   "outputs": [],
   "source": [
    "data3 = pd.read_csv('netflix4.csv', encoding='latin-1')"
   ]
  },
  {
   "cell_type": "code",
   "execution_count": null,
   "id": "5cb4028f",
   "metadata": {},
   "outputs": [],
   "source": [
    "data3"
   ]
  },
  {
   "cell_type": "code",
   "execution_count": null,
   "id": "3dec88f3",
   "metadata": {},
   "outputs": [],
   "source": [
    "data3 = data3.drop(['show_id','Unnamed: 11','date_added'], axis=1)"
   ]
  },
  {
   "cell_type": "code",
   "execution_count": null,
   "id": "5409667d",
   "metadata": {},
   "outputs": [],
   "source": [
    "data3"
   ]
  },
  {
   "cell_type": "code",
   "execution_count": null,
   "id": "fb923721",
   "metadata": {},
   "outputs": [],
   "source": [
    "data3 = data3.rename(columns={'listed_in': 'category'})"
   ]
  },
  {
   "cell_type": "code",
   "execution_count": null,
   "id": "a45ce9ae",
   "metadata": {},
   "outputs": [],
   "source": [
    "data3.dtypes"
   ]
  },
  {
   "cell_type": "code",
   "execution_count": null,
   "id": "dd48a165",
   "metadata": {},
   "outputs": [],
   "source": [
    "data3['release_year'] = data3['release_year'].astype(str)\n",
    "data3"
   ]
  },
  {
   "cell_type": "code",
   "execution_count": null,
   "id": "980d402e",
   "metadata": {},
   "outputs": [],
   "source": [
    "data3.dtypes"
   ]
  },
  {
   "cell_type": "code",
   "execution_count": null,
   "id": "c035559c",
   "metadata": {},
   "outputs": [],
   "source": [
    "data3['release_year'] = data3['release_year'].str[:4]\n",
    "data3"
   ]
  },
  {
   "cell_type": "code",
   "execution_count": null,
   "id": "2ad8643e",
   "metadata": {},
   "outputs": [],
   "source": [
    "#we just want to check Nan values"
   ]
  },
  {
   "cell_type": "code",
   "execution_count": null,
   "id": "e20ca74f",
   "metadata": {
    "scrolled": false
   },
   "outputs": [],
   "source": [
    "data3.isna().sum()"
   ]
  },
  {
   "cell_type": "code",
   "execution_count": null,
   "id": "daa59d70",
   "metadata": {},
   "outputs": [],
   "source": [
    "data3.duplicated().sum()"
   ]
  },
  {
   "cell_type": "code",
   "execution_count": null,
   "id": "42b686b7",
   "metadata": {},
   "outputs": [],
   "source": [
    "data4 = pd.read_csv('netflix5.csv')"
   ]
  },
  {
   "cell_type": "code",
   "execution_count": null,
   "id": "f7bae981",
   "metadata": {},
   "outputs": [],
   "source": [
    "data4"
   ]
  },
  {
   "cell_type": "code",
   "execution_count": null,
   "id": "63a77c92",
   "metadata": {},
   "outputs": [],
   "source": [
    "data4 = data4.drop(['show_id','Unnamed: 11','date_added'], axis=1)"
   ]
  },
  {
   "cell_type": "code",
   "execution_count": null,
   "id": "758a2fe3",
   "metadata": {},
   "outputs": [],
   "source": [
    "data4 = data4.rename(columns={'listed_in': 'category'})"
   ]
  },
  {
   "cell_type": "code",
   "execution_count": null,
   "id": "7a0f81fc",
   "metadata": {},
   "outputs": [],
   "source": [
    "data4"
   ]
  },
  {
   "cell_type": "code",
   "execution_count": null,
   "id": "2687b9b4",
   "metadata": {},
   "outputs": [],
   "source": [
    "data4.isna().sum()"
   ]
  },
  {
   "cell_type": "code",
   "execution_count": null,
   "id": "c3000bc3",
   "metadata": {},
   "outputs": [],
   "source": [
    "data4.duplicated().sum()"
   ]
  },
  {
   "cell_type": "code",
   "execution_count": null,
   "id": "65a13750",
   "metadata": {},
   "outputs": [],
   "source": [
    "data4 = data4.drop_duplicates()"
   ]
  },
  {
   "cell_type": "code",
   "execution_count": null,
   "id": "3a04b576",
   "metadata": {},
   "outputs": [],
   "source": [
    "data1 = data1[['title', 'release_year', 'category', 'duration','country','type']]\n",
    "data1.head()"
   ]
  },
  {
   "cell_type": "code",
   "execution_count": null,
   "id": "c74415b0",
   "metadata": {},
   "outputs": [],
   "source": [
    "data2 = data2[['title', 'release_year', 'category','duration','rating']]\n",
    "data2.head()"
   ]
  },
  {
   "cell_type": "code",
   "execution_count": null,
   "id": "502a2978",
   "metadata": {},
   "outputs": [],
   "source": [
    "data3 = data3[['title', 'release_year', 'category','duration','country','type', 'rating','director', 'cast']]\n",
    "data3.head()"
   ]
  },
  {
   "cell_type": "code",
   "execution_count": null,
   "id": "04496969",
   "metadata": {},
   "outputs": [],
   "source": [
    "data4 = data4[['title', 'release_year', 'category','duration','country','type', 'rating','director', 'cast']]\n",
    "data4.head()"
   ]
  },
  {
   "cell_type": "code",
   "execution_count": null,
   "id": "c782c0ba",
   "metadata": {},
   "outputs": [],
   "source": [
    "data = pd.concat([data1, data2, data3, data4], axis=0)"
   ]
  },
  {
   "cell_type": "code",
   "execution_count": null,
   "id": "d2055783",
   "metadata": {},
   "outputs": [],
   "source": [
    "data = data.reset_index(drop=True)"
   ]
  },
  {
   "cell_type": "code",
   "execution_count": null,
   "id": "dbb38676",
   "metadata": {},
   "outputs": [],
   "source": [
    "data.shape"
   ]
  },
  {
   "cell_type": "code",
   "execution_count": null,
   "id": "c60ce73f",
   "metadata": {},
   "outputs": [],
   "source": [
    "data.isna().sum()"
   ]
  },
  {
   "cell_type": "code",
   "execution_count": null,
   "id": "b17660b7",
   "metadata": {},
   "outputs": [],
   "source": [
    "#we will not need these columns "
   ]
  },
  {
   "cell_type": "code",
   "execution_count": null,
   "id": "fba58f16",
   "metadata": {},
   "outputs": [],
   "source": [
    "data = data.drop(['director','cast','rating'], axis=1)"
   ]
  },
  {
   "cell_type": "code",
   "execution_count": null,
   "id": "d95a627b",
   "metadata": {},
   "outputs": [],
   "source": [
    "data.shape"
   ]
  },
  {
   "cell_type": "code",
   "execution_count": null,
   "id": "42229ac0",
   "metadata": {},
   "outputs": [],
   "source": [
    "data.isna().sum()"
   ]
  },
  {
   "cell_type": "code",
   "execution_count": null,
   "id": "fa6bc4f4",
   "metadata": {},
   "outputs": [],
   "source": [
    "data = data.dropna(subset=['category'])"
   ]
  },
  {
   "cell_type": "code",
   "execution_count": null,
   "id": "07dfe7d9",
   "metadata": {},
   "outputs": [],
   "source": [
    "data.isna().sum()"
   ]
  },
  {
   "cell_type": "code",
   "execution_count": null,
   "id": "9333d89b",
   "metadata": {},
   "outputs": [],
   "source": [
    "value_counts = data['release_year'].value_counts()\n",
    "with pd.option_context('display.max_rows', None, 'display.max_columns', None):\n",
    "    print(value_counts)"
   ]
  },
  {
   "cell_type": "code",
   "execution_count": null,
   "id": "3ed35fdd",
   "metadata": {},
   "outputs": [],
   "source": [
    "data.to_csv('Datasetcleanup.csv', index=False)"
   ]
  }
 ],
 "metadata": {
  "kernelspec": {
   "display_name": "Python 3 (ipykernel)",
   "language": "python",
   "name": "python3"
  },
  "language_info": {
   "codemirror_mode": {
    "name": "ipython",
    "version": 3
   },
   "file_extension": ".py",
   "mimetype": "text/x-python",
   "name": "python",
   "nbconvert_exporter": "python",
   "pygments_lexer": "ipython3",
   "version": "3.10.9"
  }
 },
 "nbformat": 4,
 "nbformat_minor": 5
}
